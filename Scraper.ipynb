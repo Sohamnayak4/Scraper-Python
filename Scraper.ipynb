{
 "cells": [
  {
   "cell_type": "code",
   "execution_count": 1,
   "id": "e1ce11b0",
   "metadata": {},
   "outputs": [],
   "source": [
    "from bs4 import BeautifulSoup\n",
    "import requests\n",
    "import time\n",
    "import datetime\n",
    "import smtplib"
   ]
  },
  {
   "cell_type": "code",
   "execution_count": 14,
   "id": "49eb03de",
   "metadata": {},
   "outputs": [
    {
     "name": "stdout",
     "output_type": "stream",
     "text": [
      "\n",
      "            CMF by Nothing Buds 42 dB Active Noise Cancellation, Ultra Bass Technology, 35.5 Hrs playtime Bluetooth Headset\n",
      "            \n",
      "            (Light Grey, True Wireless)\n",
      "            \n",
      "             ₹2,499\n",
      "            \n"
     ]
    }
   ],
   "source": [
    "URL=\"https://www.flipkart.com/cmf-nothing-buds-42-db-active-noise-cancellation-ultra-bass-technology-35-5-hrs-playtime-bluetooth-headset/p/itmf191796186693?pid=ACCGXX625HNFF8TD&lid=LSTACCGXX625HNFF8TDTLBRDH&marketplace=FLIPKART&sattr[]=color&st=color&otracker=pp_reco_Similar%252BProducts_1_35.productCard.PMU_HORIZONTAL_CMF%252Bby%252BNothing%252BBuds%252B42%252BdB%252BActive%252BNoise%252BCancellation%25252C%252BUltra%252BBass%252BTechnology%25252C%252B35.5%252BHrs%252Bplaytime%252BBluetooth%252BHeadset_ACCGXX62ATGFSZG8_productRecommendation%252Fsimilar_0\"\n",
    "headers={\"User-Agent\": \"Mozilla/5.0 (Windows NT 10.0; Win64; x64) AppleWebKit/537.36 (KHTML, like Gecko) Chrome/126.0.0.0 Safari/537.36\", \"Accept-Encoding\":\"gzip, deflate\", \"Accept\":\"text/html,application/xhtml+xml,application/xml;q=0.9,*/*;q=0.8\", \"DNT\":\"1\",\"Connection\":\"close\", \"Upgrade-Insecure-Requests\":\"1\"}\n",
    "\n",
    "page = requests.get(URL, headers=headers)\n",
    "\n",
    "soup1 = BeautifulSoup(page.content, \"html.parser\")\n",
    "\n",
    "soup2 = BeautifulSoup(soup1.prettify(), \"html.parser\")\n",
    "\n",
    "title = soup2.find(class_='VU-ZEz').get_text()\n",
    "\n",
    "price = soup2.find(class_='Nx9bqj CxhGGd').get_text()\n",
    "\n",
    "\n",
    "print(title,price)"
   ]
  },
  {
   "cell_type": "code",
   "execution_count": 15,
   "id": "244bce56",
   "metadata": {},
   "outputs": [],
   "source": [
    "price=price.strip()[1:]"
   ]
  },
  {
   "cell_type": "code",
   "execution_count": 16,
   "id": "456c4858",
   "metadata": {},
   "outputs": [
    {
     "data": {
      "text/plain": [
       "'2,499'"
      ]
     },
     "execution_count": 16,
     "metadata": {},
     "output_type": "execute_result"
    }
   ],
   "source": [
    "price"
   ]
  },
  {
   "cell_type": "code",
   "execution_count": 17,
   "id": "b45a7d2e",
   "metadata": {},
   "outputs": [],
   "source": [
    "title=title.strip()"
   ]
  },
  {
   "cell_type": "code",
   "execution_count": 24,
   "id": "d7c03039",
   "metadata": {},
   "outputs": [],
   "source": [
    "title=\" \".join(title.split())"
   ]
  },
  {
   "cell_type": "code",
   "execution_count": 25,
   "id": "9429b20d",
   "metadata": {},
   "outputs": [
    {
     "data": {
      "text/plain": [
       "'CMF by Nothing Buds 42 dB Active Noise Cancellation, Ultra Bass Technology, 35.5 Hrs playtime Bluetooth Headset (Light Grey, True Wireless)'"
      ]
     },
     "execution_count": 25,
     "metadata": {},
     "output_type": "execute_result"
    }
   ],
   "source": [
    "title"
   ]
  },
  {
   "cell_type": "code",
   "execution_count": 26,
   "id": "53462250",
   "metadata": {},
   "outputs": [
    {
     "name": "stdout",
     "output_type": "stream",
     "text": [
      "2024-07-14\n"
     ]
    }
   ],
   "source": [
    "import datetime\n",
    "\n",
    "today = datetime.date.today()\n",
    "\n",
    "print(today)"
   ]
  },
  {
   "cell_type": "code",
   "execution_count": 27,
   "id": "bbab69e5",
   "metadata": {},
   "outputs": [],
   "source": [
    "import csv \n",
    "\n",
    "header = ['Title', 'Price', 'Date']\n",
    "data = [title, price, today]\n",
    "\n",
    "\n",
    "with open('Scraper1.csv', 'w', newline='', encoding='UTF8') as f:\n",
    "    writer = csv.writer(f)\n",
    "    writer.writerow(header)\n",
    "    writer.writerow(data)"
   ]
  },
  {
   "cell_type": "code",
   "execution_count": null,
   "id": "20f371c0",
   "metadata": {},
   "outputs": [],
   "source": []
  },
  {
   "cell_type": "code",
   "execution_count": null,
   "id": "a111706e",
   "metadata": {},
   "outputs": [],
   "source": []
  }
 ],
 "metadata": {
  "kernelspec": {
   "display_name": "Python 3 (ipykernel)",
   "language": "python",
   "name": "python3"
  },
  "language_info": {
   "codemirror_mode": {
    "name": "ipython",
    "version": 3
   },
   "file_extension": ".py",
   "mimetype": "text/x-python",
   "name": "python",
   "nbconvert_exporter": "python",
   "pygments_lexer": "ipython3",
   "version": "3.9.12"
  }
 },
 "nbformat": 4,
 "nbformat_minor": 5
}
